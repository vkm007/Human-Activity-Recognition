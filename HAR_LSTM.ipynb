{
  "nbformat": 4,
  "nbformat_minor": 0,
  "metadata": {
    "kernelspec": {
      "display_name": "Python 3",
      "language": "python",
      "name": "python3"
    },
    "language_info": {
      "codemirror_mode": {
        "name": "ipython",
        "version": 3
      },
      "file_extension": ".py",
      "mimetype": "text/x-python",
      "name": "python",
      "nbconvert_exporter": "python",
      "pygments_lexer": "ipython3",
      "version": "3.8.5"
    },
    "colab": {
      "name": "HAR_LSTM.ipynb",
      "provenance": [],
      "collapsed_sections": []
    },
    "accelerator": "GPU"
  },
  "cells": [
    {
      "cell_type": "code",
      "metadata": {
        "colab": {
          "base_uri": "https://localhost:8080/"
        },
        "id": "fMpH9FTAM-nU",
        "outputId": "84c5906f-910b-4f24-8268-c7a707e40972"
      },
      "source": [
        "from google.colab import drive\n",
        "drive.mount('/content/drive', force_remount=True)"
      ],
      "execution_count": 1,
      "outputs": [
        {
          "output_type": "stream",
          "text": [
            "Mounted at /content/drive\n"
          ],
          "name": "stdout"
        }
      ]
    },
    {
      "cell_type": "code",
      "metadata": {
        "colab": {
          "base_uri": "https://localhost:8080/"
        },
        "id": "GArN9kulNrPg",
        "outputId": "04f06428-4e31-4f36-fc72-961d791af879"
      },
      "source": [
        "! ls"
      ],
      "execution_count": 2,
      "outputs": [
        {
          "output_type": "stream",
          "text": [
            "drive  sample_data\n"
          ],
          "name": "stdout"
        }
      ]
    },
    {
      "cell_type": "code",
      "metadata": {
        "id": "yQLPK7PjMfKt"
      },
      "source": [
        "import pandas as pd\n",
        "import numpy as np"
      ],
      "execution_count": 3,
      "outputs": []
    },
    {
      "cell_type": "code",
      "metadata": {
        "id": "FBbUI3CMMfKu"
      },
      "source": [
        "# Activities are the class labels\n",
        "# It is a 6 class classification\n",
        "ACTIVITIES = {\n",
        "    0: 'WALKING',\n",
        "    1: 'WALKING_UPSTAIRS',\n",
        "    2: 'WALKING_DOWNSTAIRS',\n",
        "    3: 'SITTING',\n",
        "    4: 'STANDING',\n",
        "    5: 'LAYING',\n",
        "}\n",
        "\n",
        "# function to print the confusion matrix\n",
        "def confusion_matrix(Y_true, Y_pred):\n",
        "    Y_true = pd.Series([ACTIVITIES[y] for y in np.argmax(Y_true, axis=1)])\n",
        "    Y_pred = pd.Series([ACTIVITIES[y] for y in np.argmax(Y_pred, axis=1)])\n",
        "\n",
        "    return pd.crosstab(Y_true, Y_pred, rownames=['True'], colnames=['Pred'])"
      ],
      "execution_count": 4,
      "outputs": []
    },
    {
      "cell_type": "markdown",
      "metadata": {
        "id": "-gqZJPh9MfKu"
      },
      "source": [
        "### Data"
      ]
    },
    {
      "cell_type": "code",
      "metadata": {
        "id": "SyfQHIbyMfKv"
      },
      "source": [
        "# Data directory\n",
        "DATADIR = 'UCI_HAR_Dataset'"
      ],
      "execution_count": 5,
      "outputs": []
    },
    {
      "cell_type": "code",
      "metadata": {
        "id": "ymaMHv_WMfKv"
      },
      "source": [
        "# Raw data signals\n",
        "# Signals are from Accelerometer and Gyroscope\n",
        "# The signals are in x,y,z directions\n",
        "SIGNALS = [\n",
        "    \"body_acc_x\",\n",
        "    \"body_acc_y\",\n",
        "    \"body_acc_z\",\n",
        "    \"body_gyro_x\",\n",
        "    \"body_gyro_y\",\n",
        "    \"body_gyro_z\",\n",
        "    \"total_acc_x\",\n",
        "    \"total_acc_y\",\n",
        "    \"total_acc_z\"\n",
        "]"
      ],
      "execution_count": 6,
      "outputs": []
    },
    {
      "cell_type": "code",
      "metadata": {
        "id": "_MSWvKVhMfKv"
      },
      "source": [
        "# function to read the data from csv file\n",
        "def _read_csv(filename):\n",
        "    return pd.read_csv(filename, delim_whitespace=True, header=None)\n",
        "\n",
        "# function to load the file\n",
        "def load_signals(subset):\n",
        "    signals_data = []\n",
        "\n",
        "    for signal in SIGNALS:\n",
        "        filename = f'drive/My Drive/HAR/UCI_HAR_Dataset/{subset}/Inertial Signals/{signal}_{subset}.txt'\n",
        "        signals_data.append(\n",
        "            _read_csv(filename).values\n",
        "        ) \n",
        "\n",
        "    # Transpose is used to change the dimensionality of the output,\n",
        "    # aggregating the signals by combination of sample/timestep.\n",
        "    # Resultant shape is (7352 train/2947 test samples, 128 timesteps, 9 signals)\n",
        "    return np.transpose(signals_data, (1, 2, 0))"
      ],
      "execution_count": 7,
      "outputs": []
    },
    {
      "cell_type": "code",
      "metadata": {
        "id": "sJKouvz3MfKw"
      },
      "source": [
        "# creates one hot encoding of output\n",
        "def load_y(subset):\n",
        "\n",
        "    filename = f'drive/My Drive/HAR/UCI_HAR_Dataset/{subset}/y_{subset}.txt'\n",
        "    y = _read_csv(filename)[0]\n",
        "\n",
        "    return pd.get_dummies(y).values"
      ],
      "execution_count": 8,
      "outputs": []
    },
    {
      "cell_type": "code",
      "metadata": {
        "id": "ME618oDEMfKw"
      },
      "source": [
        "def load_data():\n",
        "    \"\"\"\n",
        "    Obtain the dataset from multiple files.\n",
        "    Returns: X_train, X_test, y_train, y_test\n",
        "    \"\"\"\n",
        "    X_train, X_test = load_signals('train'), load_signals('test')\n",
        "    y_train, y_test = load_y('train'), load_y('test')\n",
        "\n",
        "    return X_train, X_test, y_train, y_test"
      ],
      "execution_count": 9,
      "outputs": []
    },
    {
      "cell_type": "code",
      "metadata": {
        "id": "b7X7He4YMfKx"
      },
      "source": [
        "# Importing libraries\n",
        "from tensorflow.keras.models import Sequential\n",
        "from tensorflow.keras.layers import LSTM\n",
        "from tensorflow.keras.layers import Dense, Dropout"
      ],
      "execution_count": 10,
      "outputs": []
    },
    {
      "cell_type": "code",
      "metadata": {
        "id": "vXfRAykmMfKx"
      },
      "source": [
        "# Initializing parameters\n",
        "epochs = 26\n",
        "batch_size = 16\n",
        "n_hidden = 32"
      ],
      "execution_count": 11,
      "outputs": []
    },
    {
      "cell_type": "code",
      "metadata": {
        "id": "kznzvguOMfKx"
      },
      "source": [
        "# Utility function to count the number of classes\n",
        "def _count_classes(y):\n",
        "    return len(set([tuple(category) for category in y]))"
      ],
      "execution_count": 12,
      "outputs": []
    },
    {
      "cell_type": "code",
      "metadata": {
        "id": "l3uFNSIBW9qe"
      },
      "source": [
        "# Loading the train and test data\n",
        "X_train, X_test, Y_train, Y_test = load_data()"
      ],
      "execution_count": 13,
      "outputs": []
    },
    {
      "cell_type": "code",
      "metadata": {
        "colab": {
          "base_uri": "https://localhost:8080/"
        },
        "id": "3fr4YIHHXBRA",
        "outputId": "228af25e-ee0c-43ca-bfb1-f12f45bdde9a"
      },
      "source": [
        "X_train.shape"
      ],
      "execution_count": 14,
      "outputs": [
        {
          "output_type": "execute_result",
          "data": {
            "text/plain": [
              "(7352, 128, 9)"
            ]
          },
          "metadata": {
            "tags": []
          },
          "execution_count": 14
        }
      ]
    },
    {
      "cell_type": "code",
      "metadata": {
        "id": "XZYQLLV0MfKy",
        "colab": {
          "base_uri": "https://localhost:8080/"
        },
        "outputId": "26dddf72-4705-47f4-b5b0-3646ff374eda"
      },
      "source": [
        "timesteps = len(X_train[0])\n",
        "input_dim = len(X_train[0][0])\n",
        "n_classes = _count_classes(Y_train)\n",
        "\n",
        "print(timesteps)\n",
        "print(input_dim)\n",
        "print(len(X_train))"
      ],
      "execution_count": 15,
      "outputs": [
        {
          "output_type": "stream",
          "text": [
            "128\n",
            "9\n",
            "7352\n"
          ],
          "name": "stdout"
        }
      ]
    },
    {
      "cell_type": "code",
      "metadata": {
        "id": "QLzkHEIBMfKy",
        "colab": {
          "base_uri": "https://localhost:8080/"
        },
        "outputId": "ca5cd02f-4bf3-475f-b8f1-dd7515a084aa"
      },
      "source": [
        "print(pd.DataFrame(X_train[0]))"
      ],
      "execution_count": null,
      "outputs": [
        {
          "output_type": "stream",
          "text": [
            "            0         1         2  ...         6         7         8\n",
            "0    0.000181  0.010767  0.055561  ...  1.012817 -0.123217  0.102934\n",
            "1    0.010139  0.006579  0.055125  ...  1.022833 -0.126876  0.105687\n",
            "2    0.009276  0.008929  0.048405  ...  1.022028 -0.124004  0.102102\n",
            "3    0.005066  0.007489  0.049775  ...  1.017877 -0.124928  0.106553\n",
            "4    0.010810  0.006141  0.043013  ...  1.023680 -0.125767  0.102814\n",
            "..        ...       ...       ...  ...       ...       ...       ...\n",
            "123  0.000228 -0.002929 -0.003412  ...  1.019815 -0.127010  0.094843\n",
            "124 -0.000300 -0.002023  0.000359  ...  1.019290 -0.126185  0.098350\n",
            "125 -0.001147  0.000171  0.002648  ...  1.018445 -0.124070  0.100385\n",
            "126 -0.000222  0.001574  0.002381  ...  1.019372 -0.122745  0.099874\n",
            "127  0.001576  0.003070 -0.002270  ...  1.021171 -0.121326  0.094987\n",
            "\n",
            "[128 rows x 9 columns]\n"
          ],
          "name": "stdout"
        }
      ]
    },
    {
      "cell_type": "markdown",
      "metadata": {
        "id": "23ExBGRcMfKz"
      },
      "source": [
        "- Defining the Architecture of LSTM"
      ]
    },
    {
      "cell_type": "code",
      "metadata": {
        "id": "_pQDa_EqMfKz",
        "colab": {
          "base_uri": "https://localhost:8080/"
        },
        "outputId": "e2edd6b9-09e5-40bb-ac4e-be8736fd547b"
      },
      "source": [
        "# Initiliazing the sequential model\n",
        "model = Sequential()\n",
        "# Configuring the parameters\n",
        "model.add(LSTM(n_hidden, input_shape=(timesteps, input_dim)))\n",
        "# Adding a dropout layer\n",
        "model.add(Dropout(0.5))\n",
        "# Adding a dense output layer with sigmoid activation\n",
        "model.add(Dense(n_classes, activation='sigmoid'))\n",
        "model.summary()"
      ],
      "execution_count": 16,
      "outputs": [
        {
          "output_type": "stream",
          "text": [
            "Model: \"sequential\"\n",
            "_________________________________________________________________\n",
            "Layer (type)                 Output Shape              Param #   \n",
            "=================================================================\n",
            "lstm (LSTM)                  (None, 32)                5376      \n",
            "_________________________________________________________________\n",
            "dropout (Dropout)            (None, 32)                0         \n",
            "_________________________________________________________________\n",
            "dense (Dense)                (None, 6)                 198       \n",
            "=================================================================\n",
            "Total params: 5,574\n",
            "Trainable params: 5,574\n",
            "Non-trainable params: 0\n",
            "_________________________________________________________________\n"
          ],
          "name": "stdout"
        }
      ]
    },
    {
      "cell_type": "code",
      "metadata": {
        "collapsed": true,
        "id": "AIhXsKx7MfKz"
      },
      "source": [
        "# Compiling the model\n",
        "model.compile(loss='categorical_crossentropy',\n",
        "            optimizer='rmsprop',\n",
        "              metrics=['accuracy'])"
      ],
      "execution_count": 17,
      "outputs": []
    },
    {
      "cell_type": "code",
      "metadata": {
        "id": "JU9lBHjxMfK0",
        "colab": {
          "base_uri": "https://localhost:8080/"
        },
        "outputId": "c1f06086-ee08-43ce-f61c-a109f576fc1d"
      },
      "source": [
        "# Training the model\n",
        "model.fit(X_train,\n",
        "          Y_train,\n",
        "          batch_size=batch_size,\n",
        "          validation_data=(X_test, Y_test),\n",
        "          epochs=epochs,verbose = 1)"
      ],
      "execution_count": 19,
      "outputs": [
        {
          "output_type": "stream",
          "text": [
            "Epoch 1/26\n",
            "460/460 [==============================] - 4s 8ms/step - loss: 1.2101 - accuracy: 0.5027 - val_loss: 0.8858 - val_accuracy: 0.6200\n",
            "Epoch 2/26\n",
            "460/460 [==============================] - 3s 7ms/step - loss: 0.8483 - accuracy: 0.6408 - val_loss: 0.8356 - val_accuracy: 0.6692\n",
            "Epoch 3/26\n",
            "460/460 [==============================] - 3s 7ms/step - loss: 0.6836 - accuracy: 0.7178 - val_loss: 0.6666 - val_accuracy: 0.7258\n",
            "Epoch 4/26\n",
            "460/460 [==============================] - 3s 7ms/step - loss: 0.4910 - accuracy: 0.8271 - val_loss: 0.5949 - val_accuracy: 0.8107\n",
            "Epoch 5/26\n",
            "460/460 [==============================] - 3s 7ms/step - loss: 0.3819 - accuracy: 0.8818 - val_loss: 0.4966 - val_accuracy: 0.8517\n",
            "Epoch 6/26\n",
            "460/460 [==============================] - 3s 7ms/step - loss: 0.2997 - accuracy: 0.9090 - val_loss: 0.4422 - val_accuracy: 0.8415\n",
            "Epoch 7/26\n",
            "460/460 [==============================] - 3s 7ms/step - loss: 0.2722 - accuracy: 0.9158 - val_loss: 0.3817 - val_accuracy: 0.8829\n",
            "Epoch 8/26\n",
            "460/460 [==============================] - 3s 7ms/step - loss: 0.2349 - accuracy: 0.9242 - val_loss: 0.3682 - val_accuracy: 0.8839\n",
            "Epoch 9/26\n",
            "460/460 [==============================] - 3s 7ms/step - loss: 0.2237 - accuracy: 0.9252 - val_loss: 0.4539 - val_accuracy: 0.8826\n",
            "Epoch 10/26\n",
            "460/460 [==============================] - 3s 7ms/step - loss: 0.2162 - accuracy: 0.9289 - val_loss: 0.4818 - val_accuracy: 0.8629\n",
            "Epoch 11/26\n",
            "460/460 [==============================] - 3s 7ms/step - loss: 0.1903 - accuracy: 0.9358 - val_loss: 0.3919 - val_accuracy: 0.8924\n",
            "Epoch 12/26\n",
            "460/460 [==============================] - 3s 7ms/step - loss: 0.2160 - accuracy: 0.9278 - val_loss: 0.3275 - val_accuracy: 0.8992\n",
            "Epoch 13/26\n",
            "460/460 [==============================] - 3s 7ms/step - loss: 0.1788 - accuracy: 0.9361 - val_loss: 0.3642 - val_accuracy: 0.8955\n",
            "Epoch 14/26\n",
            "460/460 [==============================] - 3s 7ms/step - loss: 0.1855 - accuracy: 0.9374 - val_loss: 0.3467 - val_accuracy: 0.8965\n",
            "Epoch 15/26\n",
            "460/460 [==============================] - 3s 7ms/step - loss: 0.1759 - accuracy: 0.9418 - val_loss: 0.3313 - val_accuracy: 0.8955\n",
            "Epoch 16/26\n",
            "460/460 [==============================] - 3s 7ms/step - loss: 0.1836 - accuracy: 0.9340 - val_loss: 0.3564 - val_accuracy: 0.9050\n",
            "Epoch 17/26\n",
            "460/460 [==============================] - 3s 7ms/step - loss: 0.1623 - accuracy: 0.9426 - val_loss: 0.3259 - val_accuracy: 0.9060\n",
            "Epoch 18/26\n",
            "460/460 [==============================] - 3s 7ms/step - loss: 0.1652 - accuracy: 0.9434 - val_loss: 0.4120 - val_accuracy: 0.8741\n",
            "Epoch 19/26\n",
            "460/460 [==============================] - 3s 7ms/step - loss: 0.1613 - accuracy: 0.9431 - val_loss: 0.5833 - val_accuracy: 0.8846\n",
            "Epoch 20/26\n",
            "460/460 [==============================] - 3s 7ms/step - loss: 0.1529 - accuracy: 0.9456 - val_loss: 0.4791 - val_accuracy: 0.8884\n",
            "Epoch 21/26\n",
            "460/460 [==============================] - 3s 7ms/step - loss: 0.1700 - accuracy: 0.9408 - val_loss: 0.3935 - val_accuracy: 0.9135\n",
            "Epoch 22/26\n",
            "460/460 [==============================] - 3s 7ms/step - loss: 0.1517 - accuracy: 0.9441 - val_loss: 0.3885 - val_accuracy: 0.8951\n",
            "Epoch 23/26\n",
            "460/460 [==============================] - 3s 7ms/step - loss: 0.1403 - accuracy: 0.9483 - val_loss: 0.3699 - val_accuracy: 0.8999\n",
            "Epoch 24/26\n",
            "460/460 [==============================] - 3s 7ms/step - loss: 0.1472 - accuracy: 0.9472 - val_loss: 0.3407 - val_accuracy: 0.9023\n",
            "Epoch 25/26\n",
            "460/460 [==============================] - 3s 7ms/step - loss: 0.1393 - accuracy: 0.9449 - val_loss: 0.3920 - val_accuracy: 0.8999\n",
            "Epoch 26/26\n",
            "460/460 [==============================] - 3s 7ms/step - loss: 0.1380 - accuracy: 0.9472 - val_loss: 0.4401 - val_accuracy: 0.9050\n"
          ],
          "name": "stdout"
        },
        {
          "output_type": "execute_result",
          "data": {
            "text/plain": [
              "<tensorflow.python.keras.callbacks.History at 0x7f9eae686890>"
            ]
          },
          "metadata": {
            "tags": []
          },
          "execution_count": 19
        }
      ]
    },
    {
      "cell_type": "code",
      "metadata": {
        "id": "u07pfVaBMfK0",
        "colab": {
          "base_uri": "https://localhost:8080/"
        },
        "outputId": "86e1e064-66d5-4127-cb4a-f6873b48a8f5"
      },
      "source": [
        "# Confusion Matrix\n",
        "print(confusion_matrix(Y_test, model.predict(X_test)))"
      ],
      "execution_count": 20,
      "outputs": [
        {
          "output_type": "stream",
          "text": [
            "Pred                LAYING  SITTING  ...  WALKING_DOWNSTAIRS  WALKING_UPSTAIRS\n",
            "True                                 ...                                      \n",
            "LAYING                 508        0  ...                   0                15\n",
            "SITTING                  0      415  ...                   0                 3\n",
            "STANDING                 0      112  ...                   0                 0\n",
            "WALKING                  0        0  ...                   2                 0\n",
            "WALKING_DOWNSTAIRS       0        0  ...                 396                 8\n",
            "WALKING_UPSTAIRS         0        0  ...                   6               435\n",
            "\n",
            "[6 rows x 6 columns]\n"
          ],
          "name": "stdout"
        }
      ]
    },
    {
      "cell_type": "code",
      "metadata": {
        "id": "8r_Ffz95MfK0",
        "colab": {
          "base_uri": "https://localhost:8080/"
        },
        "outputId": "1b10b487-0e0f-417c-f5e2-39206f776914"
      },
      "source": [
        "score = model.evaluate(X_test, Y_test)"
      ],
      "execution_count": 21,
      "outputs": [
        {
          "output_type": "stream",
          "text": [
            "93/93 [==============================] - 0s 4ms/step - loss: 0.4401 - accuracy: 0.9050\n"
          ],
          "name": "stdout"
        }
      ]
    },
    {
      "cell_type": "code",
      "metadata": {
        "id": "vBDkjaklMfK0",
        "colab": {
          "base_uri": "https://localhost:8080/"
        },
        "outputId": "c8fbc383-a1be-447c-c5b6-a8c0bb689694"
      },
      "source": [
        "score"
      ],
      "execution_count": 22,
      "outputs": [
        {
          "output_type": "execute_result",
          "data": {
            "text/plain": [
              "[0.44011443853378296, 0.9049881100654602]"
            ]
          },
          "metadata": {
            "tags": []
          },
          "execution_count": 22
        }
      ]
    },
    {
      "cell_type": "code",
      "metadata": {
        "id": "mAHY2q4ofK-y"
      },
      "source": [
        "b = np.array([X_test[1]])"
      ],
      "execution_count": 23,
      "outputs": []
    },
    {
      "cell_type": "code",
      "metadata": {
        "colab": {
          "base_uri": "https://localhost:8080/"
        },
        "id": "a40rzMrLVFj4",
        "outputId": "96ee9e57-2e3a-48be-8425-5d466a8b5d5e"
      },
      "source": [
        "import tensorflow as tf\n",
        "tf.__version__\n",
        "# Convert the model.\n",
        "converter = tf.lite.TFLiteConverter.from_keras_model(model)\n",
        "tflite_model = converter.convert()\n",
        "\n",
        "# Save the model.\n",
        "with open('model.tflite', 'wb') as f:\n",
        "  f.write(tflite_model)"
      ],
      "execution_count": 24,
      "outputs": [
        {
          "output_type": "stream",
          "text": [
            "WARNING:absl:Found untraced functions such as lstm_cell_layer_call_fn, lstm_cell_layer_call_and_return_conditional_losses, lstm_cell_layer_call_fn, lstm_cell_layer_call_and_return_conditional_losses, lstm_cell_layer_call_and_return_conditional_losses while saving (showing 5 of 5). These functions will not be directly callable after loading.\n",
            "WARNING:absl:Found untraced functions such as lstm_cell_layer_call_fn, lstm_cell_layer_call_and_return_conditional_losses, lstm_cell_layer_call_fn, lstm_cell_layer_call_and_return_conditional_losses, lstm_cell_layer_call_and_return_conditional_losses while saving (showing 5 of 5). These functions will not be directly callable after loading.\n"
          ],
          "name": "stderr"
        },
        {
          "output_type": "stream",
          "text": [
            "INFO:tensorflow:Assets written to: /tmp/tmpo0p_d3ad/assets\n"
          ],
          "name": "stdout"
        },
        {
          "output_type": "stream",
          "text": [
            "INFO:tensorflow:Assets written to: /tmp/tmpo0p_d3ad/assets\n"
          ],
          "name": "stderr"
        }
      ]
    },
    {
      "cell_type": "code",
      "metadata": {
        "colab": {
          "base_uri": "https://localhost:8080/"
        },
        "id": "NL1XYwozkhtj",
        "outputId": "f45dc9ad-6368-4b65-8d67-e26dd22f6c3c"
      },
      "source": [
        "# Load TFLite model and allocate tensors.\n",
        "interpreter = tf.lite.Interpreter(model_path=\"model.tflite\")\n",
        "interpreter.allocate_tensors()\n",
        "interpreter"
      ],
      "execution_count": 25,
      "outputs": [
        {
          "output_type": "execute_result",
          "data": {
            "text/plain": [
              "<tensorflow.lite.python.interpreter.Interpreter at 0x7f9e9bcbc5d0>"
            ]
          },
          "metadata": {
            "tags": []
          },
          "execution_count": 25
        }
      ]
    },
    {
      "cell_type": "code",
      "metadata": {
        "colab": {
          "base_uri": "https://localhost:8080/"
        },
        "id": "rdKGushLYrD0",
        "outputId": "1685c54f-27e2-4415-c7af-d143ab87547e"
      },
      "source": [
        "# Get input and output tensors.\n",
        "input_details = interpreter.get_input_details()\n",
        "output_details = interpreter.get_output_details()\n",
        "input_shape = input_details[0]['shape']\n",
        "b= tf.convert_to_tensor(b, np.float32)\n",
        "interpreter.set_tensor(input_details[0]['index'], b)\n",
        "interpreter.invoke()\n",
        "\n",
        "output_data = interpreter.get_tensor(output_details[0]['index'])\n",
        "print(output_data)"
      ],
      "execution_count": 26,
      "outputs": [
        {
          "output_type": "stream",
          "text": [
            "[[1.6027659e-02 3.2281280e-03 1.0650456e-03 8.6243457e-01 9.9481618e-01\n",
            "  1.9875169e-04]]\n"
          ],
          "name": "stdout"
        }
      ]
    },
    {
      "cell_type": "code",
      "metadata": {
        "colab": {
          "base_uri": "https://localhost:8080/"
        },
        "id": "yiMsjHSaqfVA",
        "outputId": "5a709646-b400-4e51-e281-aa941f1324ec"
      },
      "source": [
        "print(np.argmax(output_data))"
      ],
      "execution_count": 27,
      "outputs": [
        {
          "output_type": "stream",
          "text": [
            "4\n"
          ],
          "name": "stdout"
        }
      ]
    },
    {
      "cell_type": "code",
      "metadata": {
        "id": "A80Ny-ECifBI"
      },
      "source": [
        "input_details = interpreter.get_input_details()"
      ],
      "execution_count": 28,
      "outputs": []
    },
    {
      "cell_type": "code",
      "metadata": {
        "colab": {
          "base_uri": "https://localhost:8080/"
        },
        "id": "lIvWYLNti0u6",
        "outputId": "80e8748d-aeb7-4f5b-fae9-b8739ce84650"
      },
      "source": [
        "print(input_details)"
      ],
      "execution_count": 29,
      "outputs": [
        {
          "output_type": "stream",
          "text": [
            "[{'name': 'serving_default_lstm_input:0', 'index': 0, 'shape': array([  1, 128,   9], dtype=int32), 'shape_signature': array([ -1, 128,   9], dtype=int32), 'dtype': <class 'numpy.float32'>, 'quantization': (0.0, 0), 'quantization_parameters': {'scales': array([], dtype=float32), 'zero_points': array([], dtype=int32), 'quantized_dimension': 0}, 'sparsity_parameters': {}}]\n"
          ],
          "name": "stdout"
        }
      ]
    }
  ]
}