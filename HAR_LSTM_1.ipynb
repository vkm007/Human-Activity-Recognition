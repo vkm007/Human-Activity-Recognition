{
  "nbformat": 4,
  "nbformat_minor": 0,
  "metadata": {
    "kernelspec": {
      "display_name": "Python 3",
      "language": "python",
      "name": "python3"
    },
    "language_info": {
      "codemirror_mode": {
        "name": "ipython",
        "version": 3
      },
      "file_extension": ".py",
      "mimetype": "text/x-python",
      "name": "python",
      "nbconvert_exporter": "python",
      "pygments_lexer": "ipython3",
      "version": "3.8.5"
    },
    "colab": {
      "name": "HAR_LSTM 1.ipynb",
      "provenance": []
    },
    "accelerator": "GPU"
  },
  "cells": [
    {
      "cell_type": "code",
      "metadata": {
        "colab": {
          "base_uri": "https://localhost:8080/"
        },
        "id": "w18O5Yy0UQze",
        "outputId": "c6cfb177-5d28-4684-8fdb-bd1cb126aa47"
      },
      "source": [
        "from google.colab import drive\n",
        "drive.mount('/content/drive')"
      ],
      "execution_count": null,
      "outputs": [
        {
          "output_type": "stream",
          "text": [
            "Mounted at /content/drive\n"
          ],
          "name": "stdout"
        }
      ]
    },
    {
      "cell_type": "code",
      "metadata": {
        "id": "xkqQuvDVTvc6"
      },
      "source": [
        "# Importing Libraries"
      ],
      "execution_count": null,
      "outputs": []
    },
    {
      "cell_type": "code",
      "metadata": {
        "id": "J7VAr8j4TvdA"
      },
      "source": [
        "import pandas as pd\n",
        "import numpy as np"
      ],
      "execution_count": null,
      "outputs": []
    },
    {
      "cell_type": "code",
      "metadata": {
        "id": "mnqWdZWlTvdB"
      },
      "source": [
        "# Activities are the class labels\n",
        "# It is a 6 class classification\n",
        "ACTIVITIES = {\n",
        "    0: 'WALKING',\n",
        "    1: 'WALKING_UPSTAIRS',\n",
        "    2: 'WALKING_DOWNSTAIRS',\n",
        "    3: 'SITTING',\n",
        "    4: 'STANDING',\n",
        "    5: 'LAYING',\n",
        "}\n",
        "\n",
        "# Utility function to print the confusion matrix\n",
        "def confusion_matrix(Y_true, Y_pred):\n",
        "    Y_true = pd.Series([ACTIVITIES[y] for y in np.argmax(Y_true, axis=1)])\n",
        "    Y_pred = pd.Series([ACTIVITIES[y] for y in np.argmax(Y_pred, axis=1)])\n",
        "\n",
        "    return pd.crosstab(Y_true, Y_pred, rownames=['True'], colnames=['Pred'])"
      ],
      "execution_count": null,
      "outputs": []
    },
    {
      "cell_type": "markdown",
      "metadata": {
        "id": "TKFenw9lTvdB"
      },
      "source": [
        "### Data"
      ]
    },
    {
      "cell_type": "code",
      "metadata": {
        "id": "6WkL5MceTvdC"
      },
      "source": [
        "# Data directory\n",
        "DATADIR = 'UCI_HAR_Dataset'"
      ],
      "execution_count": null,
      "outputs": []
    },
    {
      "cell_type": "code",
      "metadata": {
        "id": "0C1D2AafTvdC"
      },
      "source": [
        "# Raw data signals\n",
        "# Signals are from Accelerometer and Gyroscope\n",
        "# The signals are in x,y,z directions\n",
        "# Sensor signals are filtered to have only body acceleration\n",
        "# excluding the acceleration due to gravity\n",
        "# Triaxial acceleration from the accelerometer is total acceleration\n",
        "SIGNALS = [\n",
        "    \"body_acc_x\",\n",
        "    \"body_acc_y\",\n",
        "    \"body_acc_z\",\n",
        "    \"body_gyro_x\",\n",
        "    \"body_gyro_y\",\n",
        "    \"body_gyro_z\",\n",
        "    \"total_acc_x\",\n",
        "    \"total_acc_y\",\n",
        "    \"total_acc_z\"\n",
        "]"
      ],
      "execution_count": null,
      "outputs": []
    },
    {
      "cell_type": "code",
      "metadata": {
        "id": "-gYsEU5uTvdC"
      },
      "source": [
        "\n",
        "# Utility function to read the data from csv file\n",
        "def _read_csv(filename):\n",
        "    return pd.read_csv(filename, delim_whitespace=True, header=None ,dtype = np.float32)\n",
        "\n",
        "# Utility function to load the load\n",
        "def load_signals(subset):\n",
        "    signals_data = []\n",
        "\n",
        "    for signal in SIGNALS:\n",
        "        filename = f'drive/My Drive/HAR/UCI_HAR_Dataset/{subset}/Inertial Signals/{signal}_{subset}.txt'\n",
        "        signals_data.append(\n",
        "            _read_csv(filename).values\n",
        "        ) \n",
        "\n",
        "    # Transpose is used to change the dimensionality of the output,\n",
        "    # aggregating the signals by combination of sample/timestep.\n",
        "    # Resultant shape is (7352 train/2947 test samples, 128 timesteps, 9 signals)\n",
        "    return np.transpose(signals_data, (1, 2, 0))"
      ],
      "execution_count": null,
      "outputs": []
    },
    {
      "cell_type": "code",
      "metadata": {
        "id": "DLe295CHTvdD"
      },
      "source": [
        "\n",
        "def load_y(subset):\n",
        "    \"\"\"\n",
        "    The objective that we are trying to predict is a integer, from 1 to 6,\n",
        "    that represents a human activity. We return a binary representation of \n",
        "    every sample objective as a 6 bits vector using One Hot Encoding\n",
        "    (https://pandas.pydata.org/pandas-docs/stable/generated/pandas.get_dummies.html)\n",
        "    \"\"\"\n",
        "    filename = f'drive/My Drive/HAR/UCI_HAR_Dataset/{subset}/y_{subset}.txt'\n",
        "    y = _read_csv(filename)[0]\n",
        "\n",
        "    return pd.get_dummies(y).values"
      ],
      "execution_count": null,
      "outputs": []
    },
    {
      "cell_type": "code",
      "metadata": {
        "id": "erRVvfKeTvdD"
      },
      "source": [
        "def load_data():\n",
        "    \"\"\"\n",
        "    Obtain the dataset from multiple files.\n",
        "    Returns: X_train, X_test, y_train, y_test\n",
        "    \"\"\"\n",
        "    X_train, X_test = load_signals('train'), load_signals('test')\n",
        "    y_train, y_test = load_y('train'), load_y('test')\n",
        "\n",
        "    return X_train, X_test, y_train, y_test"
      ],
      "execution_count": null,
      "outputs": []
    },
    {
      "cell_type": "code",
      "metadata": {
        "id": "uPF0nrDxTvdE"
      },
      "source": [
        "# Importing libraries\n",
        "from tensorflow.keras.models import Sequential\n",
        "from tensorflow.keras.layers import LSTM\n",
        "from tensorflow.keras.layers import Dense, Dropout\n",
        "from tensorflow.keras.layers import GRU"
      ],
      "execution_count": null,
      "outputs": []
    },
    {
      "cell_type": "code",
      "metadata": {
        "id": "P4xfBIwfTvdE"
      },
      "source": [
        "# Initializing parameters\n",
        "epochs = 30\n",
        "batch_size = 16\n",
        "n_hidden = 32"
      ],
      "execution_count": null,
      "outputs": []
    },
    {
      "cell_type": "code",
      "metadata": {
        "id": "yi6veCJOTvdE"
      },
      "source": [
        "# Utility function to count the number of classes\n",
        "def _count_classes(y):\n",
        "    return len(set([tuple(category) for category in y]))"
      ],
      "execution_count": null,
      "outputs": []
    },
    {
      "cell_type": "code",
      "metadata": {
        "id": "rCaVWqKrTvdE"
      },
      "source": [
        "# Loading the train and test data\n",
        "X_train, X_test, Y_train, Y_test = load_data()"
      ],
      "execution_count": null,
      "outputs": []
    },
    {
      "cell_type": "code",
      "metadata": {
        "colab": {
          "base_uri": "https://localhost:8080/",
          "height": 419
        },
        "id": "iygvcE7BVcTS",
        "outputId": "f8d1e754-2bcd-4572-dfa9-310af8ada006"
      },
      "source": [
        "y = pd.read_csv('drive/My Drive/HAR/UCI_HAR_Dataset/train/y_train.txt', delim_whitespace=True, header=None, names = [\"labels\"])\n",
        "y\n"
      ],
      "execution_count": null,
      "outputs": [
        {
          "output_type": "execute_result",
          "data": {
            "text/html": [
              "<div>\n",
              "<style scoped>\n",
              "    .dataframe tbody tr th:only-of-type {\n",
              "        vertical-align: middle;\n",
              "    }\n",
              "\n",
              "    .dataframe tbody tr th {\n",
              "        vertical-align: top;\n",
              "    }\n",
              "\n",
              "    .dataframe thead th {\n",
              "        text-align: right;\n",
              "    }\n",
              "</style>\n",
              "<table border=\"1\" class=\"dataframe\">\n",
              "  <thead>\n",
              "    <tr style=\"text-align: right;\">\n",
              "      <th></th>\n",
              "      <th>labels</th>\n",
              "    </tr>\n",
              "  </thead>\n",
              "  <tbody>\n",
              "    <tr>\n",
              "      <th>0</th>\n",
              "      <td>5</td>\n",
              "    </tr>\n",
              "    <tr>\n",
              "      <th>1</th>\n",
              "      <td>5</td>\n",
              "    </tr>\n",
              "    <tr>\n",
              "      <th>2</th>\n",
              "      <td>5</td>\n",
              "    </tr>\n",
              "    <tr>\n",
              "      <th>3</th>\n",
              "      <td>5</td>\n",
              "    </tr>\n",
              "    <tr>\n",
              "      <th>4</th>\n",
              "      <td>5</td>\n",
              "    </tr>\n",
              "    <tr>\n",
              "      <th>...</th>\n",
              "      <td>...</td>\n",
              "    </tr>\n",
              "    <tr>\n",
              "      <th>7347</th>\n",
              "      <td>2</td>\n",
              "    </tr>\n",
              "    <tr>\n",
              "      <th>7348</th>\n",
              "      <td>2</td>\n",
              "    </tr>\n",
              "    <tr>\n",
              "      <th>7349</th>\n",
              "      <td>2</td>\n",
              "    </tr>\n",
              "    <tr>\n",
              "      <th>7350</th>\n",
              "      <td>2</td>\n",
              "    </tr>\n",
              "    <tr>\n",
              "      <th>7351</th>\n",
              "      <td>2</td>\n",
              "    </tr>\n",
              "  </tbody>\n",
              "</table>\n",
              "<p>7352 rows × 1 columns</p>\n",
              "</div>"
            ],
            "text/plain": [
              "      labels\n",
              "0          5\n",
              "1          5\n",
              "2          5\n",
              "3          5\n",
              "4          5\n",
              "...      ...\n",
              "7347       2\n",
              "7348       2\n",
              "7349       2\n",
              "7350       2\n",
              "7351       2\n",
              "\n",
              "[7352 rows x 1 columns]"
            ]
          },
          "metadata": {
            "tags": []
          },
          "execution_count": 13
        }
      ]
    },
    {
      "cell_type": "code",
      "metadata": {
        "colab": {
          "base_uri": "https://localhost:8080/",
          "height": 497
        },
        "id": "CERIFUTLVDTo",
        "outputId": "020b24ad-1e43-432b-eb06-f24a8141c987"
      },
      "source": [
        "import seaborn as sns\n",
        "import matplotlib.pyplot as plt\n",
        "plt.figure(figsize=(10,6))\n",
        "ax = sns.countplot(x = 'labels' , data = y)\n",
        "ax.set_xticks(range(6))\n",
        "ax.set_xticklabels(['WALKING', 'WALKING_UPSTAIRS', 'WALKING_DOWNSTAIRS', 'SITTING', 'STANDING', 'LAYING'], rotation = 'vertical')\n",
        "plt.show()"
      ],
      "execution_count": null,
      "outputs": [
        {
          "output_type": "display_data",
          "data": {
            "image/png": "[encoded data removed]",
            "text/plain": [
              "<Figure size 720x432 with 1 Axes>"
            ]
          },
          "metadata": {
            "tags": [],
            "needs_background": "light"
          }
        }
      ]
    },
    {
      "cell_type": "code",
      "metadata": {
        "colab": {
          "base_uri": "https://localhost:8080/"
        },
        "id": "Y9b-ZJNtTvdF",
        "outputId": "d2ed0b85-b13f-4673-bdd1-01aa983d6996"
      },
      "source": [
        "timesteps = len(X_train[0])\n",
        "input_dim = len(X_train[0][0])\n",
        "n_classes = _count_classes(Y_train)\n",
        "\n",
        "print(timesteps)\n",
        "print(input_dim)\n",
        "print(len(X_train))"
      ],
      "execution_count": null,
      "outputs": [
        {
          "output_type": "stream",
          "text": [
            "128\n",
            "9\n",
            "7352\n"
          ],
          "name": "stdout"
        }
      ]
    },
    {
      "cell_type": "code",
      "metadata": {
        "colab": {
          "base_uri": "https://localhost:8080/"
        },
        "id": "3IZffxxjdA_B",
        "outputId": "81a60b20-d996-4a5d-f587-587396079143"
      },
      "source": [
        "df = pd.read_csv('drive/My Drive/HAR/UCI_HAR_Dataset/hehe.txt', header = None).values\n",
        "df.shape"
      ],
      "execution_count": null,
      "outputs": [
        {
          "output_type": "execute_result",
          "data": {
            "text/plain": [
              "(1, 1161)"
            ]
          },
          "metadata": {
            "tags": []
          },
          "execution_count": 16
        }
      ]
    },
    {
      "cell_type": "code",
      "metadata": {
        "colab": {
          "base_uri": "https://localhost:8080/"
        },
        "id": "MPEwloTmcN4y",
        "outputId": "02a6b533-c2ad-4d86-e81d-48d43d892110"
      },
      "source": [
        "x_temp = []\n",
        "x_temp = pd.read_csv(f'drive/My Drive/HAR/UCI_HAR_Dataset/hehe.txt', header = None).values\n",
        "x_temp = np.array(x_temp)\n",
        "normalize.fit_transform(x_temp)"
      ],
      "execution_count": null,
      "outputs": [
        {
          "output_type": "execute_result",
          "data": {
            "text/plain": [
              "array([[0., 0., 0., ..., 0., 0., 0.]])"
            ]
          },
          "metadata": {
            "tags": []
          },
          "execution_count": 20
        }
      ]
    },
    {
      "cell_type": "code",
      "metadata": {
        "id": "zv8F-nQAgfq8"
      },
      "source": [
        "from sklearn.preprocessing import StandardScaler\n",
        "normalize = StandardScaler()"
      ],
      "execution_count": null,
      "outputs": []
    },
    {
      "cell_type": "code",
      "metadata": {
        "colab": {
          "base_uri": "https://localhost:8080/",
          "height": 680
        },
        "id": "x7gRmVEUbke4",
        "outputId": "40b98778-fdb6-4b4f-be8b-836c6b52cc54"
      },
      "source": [
        "plt.figure(figsize = (10,10))\n",
        "sns.distplot(normalize.fit_transform(X_train[78:124].reshape(-1,1)), hist = False, label =\"train data\")\n",
        "sns.distplot(normalize.fit_transform(x_temp.reshape(-1,1)), hist = False, label= \"realtime\")\n",
        "plt.legend()\n",
        "plt.show()"
      ],
      "execution_count": null,
      "outputs": [
        {
          "output_type": "stream",
          "text": [
            "/usr/local/lib/python3.7/dist-packages/seaborn/distributions.py:2557: FutureWarning: `distplot` is a deprecated function and will be removed in a future version. Please adapt your code to use either `displot` (a figure-level function with similar flexibility) or `kdeplot` (an axes-level function for kernel density plots).\n",
            "  warnings.warn(msg, FutureWarning)\n",
            "/usr/local/lib/python3.7/dist-packages/seaborn/distributions.py:2557: FutureWarning: `distplot` is a deprecated function and will be removed in a future version. Please adapt your code to use either `displot` (a figure-level function with similar flexibility) or `kdeplot` (an axes-level function for kernel density plots).\n",
            "  warnings.warn(msg, FutureWarning)\n"
          ],
          "name": "stderr"
        },
        {
          "output_type": "display_data",
          "data": {
            "image/png": "[encoded data removed]",
            "text/plain": [
              "<Figure size 720x720 with 1 Axes>"
            ]
          },
          "metadata": {
            "tags": [],
            "needs_background": "light"
          }
        }
      ]
    },
    {
      "cell_type": "code",
      "metadata": {
        "colab": {
          "base_uri": "https://localhost:8080/"
        },
        "id": "8FuoLwCMTvdF",
        "outputId": "6608fcef-9aee-4bca-9648-26d4e7c553b7"
      },
      "source": [
        "print(pd.DataFrame(X_train[0]))"
      ],
      "execution_count": null,
      "outputs": [
        {
          "output_type": "stream",
          "text": [
            "            0         1         2  ...         6         7         8\n",
            "0    0.000181  0.010767  0.055561  ...  1.012817 -0.123217  0.102934\n",
            "1    0.010139  0.006579  0.055125  ...  1.022833 -0.126876  0.105687\n",
            "2    0.009276  0.008929  0.048405  ...  1.022028 -0.124004  0.102103\n",
            "3    0.005066  0.007489  0.049775  ...  1.017877 -0.124928  0.106553\n",
            "4    0.010810  0.006141  0.043013  ...  1.023680 -0.125767  0.102813\n",
            "..        ...       ...       ...  ...       ...       ...       ...\n",
            "123  0.000228 -0.002929 -0.003412  ...  1.019815 -0.127010  0.094843\n",
            "124 -0.000300 -0.002023  0.000359  ...  1.019290 -0.126185  0.098350\n",
            "125 -0.001147  0.000171  0.002648  ...  1.018445 -0.124070  0.100385\n",
            "126 -0.000222  0.001574  0.002381  ...  1.019372 -0.122745  0.099874\n",
            "127  0.001576  0.003070 -0.002270  ...  1.021171 -0.121326  0.094987\n",
            "\n",
            "[128 rows x 9 columns]\n"
          ],
          "name": "stdout"
        }
      ]
    },
    {
      "cell_type": "markdown",
      "metadata": {
        "id": "oCI7LvDyTvdG"
      },
      "source": [
        "- Defining the Architecture of GRU"
      ]
    },
    {
      "cell_type": "code",
      "metadata": {
        "colab": {
          "base_uri": "https://localhost:8080/"
        },
        "id": "yzTXN-gUTvdG",
        "outputId": "b0f03088-90cb-4b80-a46f-9f1899a0613c"
      },
      "source": [
        "# Initiliazing the sequential model\n",
        "model = Sequential()\n",
        "# Configuring the parameters\n",
        "model.add(GRU(n_hidden, input_shape=(timesteps, input_dim),return_sequences=True))\n",
        "#Adding Dropout Layer\n",
        "model.add(Dropout(0.5))\n",
        "\n",
        "model.add(GRU(16,dropout = 0.5))\n",
        "\n",
        "model.add(Dropout(0.5))\n",
        "# Adding a dense output layer with sigmoid activation\n",
        "model.add(Dense(n_classes, activation='softmax'))\n",
        "model.summary()"
      ],
      "execution_count": 32,
      "outputs": [
        {
          "output_type": "stream",
          "text": [
            "Model: \"sequential_3\"\n",
            "_________________________________________________________________\n",
            "Layer (type)                 Output Shape              Param #   \n",
            "=================================================================\n",
            "gru_6 (GRU)                  (None, 128, 32)           4128      \n",
            "_________________________________________________________________\n",
            "dropout_3 (Dropout)          (None, 128, 32)           0         \n",
            "_________________________________________________________________\n",
            "gru_7 (GRU)                  (None, 16)                2400      \n",
            "_________________________________________________________________\n",
            "dropout_4 (Dropout)          (None, 16)                0         \n",
            "_________________________________________________________________\n",
            "dense_1 (Dense)              (None, 6)                 102       \n",
            "=================================================================\n",
            "Total params: 6,630\n",
            "Trainable params: 6,630\n",
            "Non-trainable params: 0\n",
            "_________________________________________________________________\n"
          ],
          "name": "stdout"
        }
      ]
    },
    {
      "cell_type": "code",
      "metadata": {
        "collapsed": true,
        "id": "4MiWeu3JTvdG"
      },
      "source": [
        "\n",
        "# Compiling the model\n",
        "model.compile(loss='categorical_crossentropy',\n",
        "              optimizer='adam',\n",
        "              metrics=['accuracy'])"
      ],
      "execution_count": 33,
      "outputs": []
    },
    {
      "cell_type": "code",
      "metadata": {
        "colab": {
          "base_uri": "https://localhost:8080/"
        },
        "id": "S2akIdEmTvdH",
        "outputId": "d3ac3c37-dc6f-4780-8604-5cfd6af87d2b"
      },
      "source": [
        "# Training the model\n",
        "model.fit(X_train,\n",
        "          Y_train,\n",
        "          batch_size=batch_size,\n",
        "          validation_data=(X_test, Y_test),\n",
        "          epochs=epochs, verbose =1)"
      ],
      "execution_count": 34,
      "outputs": [
        {
          "output_type": "stream",
          "text": [
            "Epoch 1/30\n",
            "460/460 [==============================] - 10s 15ms/step - loss: 1.5313 - accuracy: 0.3621 - val_loss: 1.1752 - val_accuracy: 0.5168\n",
            "Epoch 2/30\n",
            "460/460 [==============================] - 6s 13ms/step - loss: 1.0229 - accuracy: 0.5550 - val_loss: 0.7571 - val_accuracy: 0.6227\n",
            "Epoch 3/30\n",
            "460/460 [==============================] - 6s 13ms/step - loss: 0.7212 - accuracy: 0.6640 - val_loss: 0.5318 - val_accuracy: 0.8134\n",
            "Epoch 4/30\n",
            "460/460 [==============================] - 6s 13ms/step - loss: 0.4859 - accuracy: 0.8285 - val_loss: 0.3614 - val_accuracy: 0.8768\n",
            "Epoch 5/30\n",
            "460/460 [==============================] - 6s 14ms/step - loss: 0.3257 - accuracy: 0.9039 - val_loss: 0.3864 - val_accuracy: 0.8775\n",
            "Epoch 6/30\n",
            "460/460 [==============================] - 6s 13ms/step - loss: 0.2953 - accuracy: 0.9039 - val_loss: 0.3140 - val_accuracy: 0.8921\n",
            "Epoch 7/30\n",
            "460/460 [==============================] - 6s 14ms/step - loss: 0.2359 - accuracy: 0.9225 - val_loss: 0.2679 - val_accuracy: 0.9057\n",
            "Epoch 8/30\n",
            "460/460 [==============================] - 6s 14ms/step - loss: 0.2141 - accuracy: 0.9262 - val_loss: 0.2988 - val_accuracy: 0.8975\n",
            "Epoch 9/30\n",
            "460/460 [==============================] - 6s 14ms/step - loss: 0.1946 - accuracy: 0.9335 - val_loss: 0.3219 - val_accuracy: 0.9009\n",
            "Epoch 10/30\n",
            "460/460 [==============================] - 6s 14ms/step - loss: 0.2047 - accuracy: 0.9295 - val_loss: 0.3430 - val_accuracy: 0.8965\n",
            "Epoch 11/30\n",
            "460/460 [==============================] - 6s 14ms/step - loss: 0.1888 - accuracy: 0.9316 - val_loss: 0.3938 - val_accuracy: 0.8833\n",
            "Epoch 12/30\n",
            "460/460 [==============================] - 6s 14ms/step - loss: 0.2374 - accuracy: 0.9263 - val_loss: 0.4222 - val_accuracy: 0.8843\n",
            "Epoch 13/30\n",
            "460/460 [==============================] - 6s 13ms/step - loss: 0.1718 - accuracy: 0.9346 - val_loss: 0.6075 - val_accuracy: 0.8497\n",
            "Epoch 14/30\n",
            "460/460 [==============================] - 6s 14ms/step - loss: 0.1809 - accuracy: 0.9361 - val_loss: 0.3308 - val_accuracy: 0.9013\n",
            "Epoch 15/30\n",
            "460/460 [==============================] - 6s 14ms/step - loss: 0.1692 - accuracy: 0.9381 - val_loss: 0.4952 - val_accuracy: 0.8802\n",
            "Epoch 16/30\n",
            "460/460 [==============================] - 6s 14ms/step - loss: 0.1794 - accuracy: 0.9312 - val_loss: 0.3671 - val_accuracy: 0.9050\n",
            "Epoch 17/30\n",
            "460/460 [==============================] - 6s 14ms/step - loss: 0.1546 - accuracy: 0.9423 - val_loss: 0.3938 - val_accuracy: 0.8884\n",
            "Epoch 18/30\n",
            "460/460 [==============================] - 6s 13ms/step - loss: 0.1531 - accuracy: 0.9364 - val_loss: 0.4130 - val_accuracy: 0.8948\n",
            "Epoch 19/30\n",
            "460/460 [==============================] - 6s 14ms/step - loss: 0.1454 - accuracy: 0.9428 - val_loss: 0.3628 - val_accuracy: 0.9023\n",
            "Epoch 20/30\n",
            "460/460 [==============================] - 6s 14ms/step - loss: 0.1565 - accuracy: 0.9373 - val_loss: 0.4362 - val_accuracy: 0.8911\n",
            "Epoch 21/30\n",
            "460/460 [==============================] - 6s 14ms/step - loss: 0.1562 - accuracy: 0.9407 - val_loss: 0.3808 - val_accuracy: 0.9023\n",
            "Epoch 22/30\n",
            "460/460 [==============================] - 6s 14ms/step - loss: 0.1563 - accuracy: 0.9405 - val_loss: 0.4305 - val_accuracy: 0.8941\n",
            "Epoch 23/30\n",
            "460/460 [==============================] - 6s 14ms/step - loss: 0.1941 - accuracy: 0.9310 - val_loss: 0.3254 - val_accuracy: 0.9036\n",
            "Epoch 24/30\n",
            "460/460 [==============================] - 6s 14ms/step - loss: 0.1700 - accuracy: 0.9370 - val_loss: 0.3980 - val_accuracy: 0.8975\n",
            "Epoch 25/30\n",
            "460/460 [==============================] - 6s 14ms/step - loss: 0.1530 - accuracy: 0.9402 - val_loss: 0.3991 - val_accuracy: 0.8924\n",
            "Epoch 26/30\n",
            "460/460 [==============================] - 6s 14ms/step - loss: 0.1436 - accuracy: 0.9394 - val_loss: 0.4246 - val_accuracy: 0.9019\n",
            "Epoch 27/30\n",
            "460/460 [==============================] - 6s 14ms/step - loss: 0.1444 - accuracy: 0.9435 - val_loss: 0.3897 - val_accuracy: 0.9053\n",
            "Epoch 28/30\n",
            "460/460 [==============================] - 6s 14ms/step - loss: 0.1398 - accuracy: 0.9445 - val_loss: 0.4111 - val_accuracy: 0.9016\n",
            "Epoch 29/30\n",
            "460/460 [==============================] - 6s 14ms/step - loss: 0.1519 - accuracy: 0.9418 - val_loss: 0.4061 - val_accuracy: 0.8972\n",
            "Epoch 30/30\n",
            "460/460 [==============================] - 6s 13ms/step - loss: 0.1423 - accuracy: 0.9375 - val_loss: 0.3888 - val_accuracy: 0.9101\n"
          ],
          "name": "stdout"
        },
        {
          "output_type": "execute_result",
          "data": {
            "text/plain": [
              "<tensorflow.python.keras.callbacks.History at 0x7f1ea81b2490>"
            ]
          },
          "metadata": {
            "tags": []
          },
          "execution_count": 34
        }
      ]
    },
    {
      "cell_type": "code",
      "metadata": {
        "colab": {
          "base_uri": "https://localhost:8080/",
          "height": 266
        },
        "id": "eGAMWGMNTvdH",
        "outputId": "aa3ee9ce-37c0-49f8-91da-0b17769a2c2d"
      },
      "source": [
        "# Confusion Matrix\n",
        "confusion_matrix(Y_test, model.predict(X_test))"
      ],
      "execution_count": 35,
      "outputs": [
        {
          "output_type": "execute_result",
          "data": {
            "text/html": [
              "<div>\n",
              "<style scoped>\n",
              "    .dataframe tbody tr th:only-of-type {\n",
              "        vertical-align: middle;\n",
              "    }\n",
              "\n",
              "    .dataframe tbody tr th {\n",
              "        vertical-align: top;\n",
              "    }\n",
              "\n",
              "    .dataframe thead th {\n",
              "        text-align: right;\n",
              "    }\n",
              "</style>\n",
              "<table border=\"1\" class=\"dataframe\">\n",
              "  <thead>\n",
              "    <tr style=\"text-align: right;\">\n",
              "      <th>Pred</th>\n",
              "      <th>LAYING</th>\n",
              "      <th>SITTING</th>\n",
              "      <th>STANDING</th>\n",
              "      <th>WALKING</th>\n",
              "      <th>WALKING_DOWNSTAIRS</th>\n",
              "      <th>WALKING_UPSTAIRS</th>\n",
              "    </tr>\n",
              "    <tr>\n",
              "      <th>True</th>\n",
              "      <th></th>\n",
              "      <th></th>\n",
              "      <th></th>\n",
              "      <th></th>\n",
              "      <th></th>\n",
              "      <th></th>\n",
              "    </tr>\n",
              "  </thead>\n",
              "  <tbody>\n",
              "    <tr>\n",
              "      <th>LAYING</th>\n",
              "      <td>510</td>\n",
              "      <td>0</td>\n",
              "      <td>0</td>\n",
              "      <td>0</td>\n",
              "      <td>0</td>\n",
              "      <td>27</td>\n",
              "    </tr>\n",
              "    <tr>\n",
              "      <th>SITTING</th>\n",
              "      <td>0</td>\n",
              "      <td>374</td>\n",
              "      <td>114</td>\n",
              "      <td>0</td>\n",
              "      <td>1</td>\n",
              "      <td>2</td>\n",
              "    </tr>\n",
              "    <tr>\n",
              "      <th>STANDING</th>\n",
              "      <td>0</td>\n",
              "      <td>58</td>\n",
              "      <td>474</td>\n",
              "      <td>0</td>\n",
              "      <td>0</td>\n",
              "      <td>0</td>\n",
              "    </tr>\n",
              "    <tr>\n",
              "      <th>WALKING</th>\n",
              "      <td>0</td>\n",
              "      <td>0</td>\n",
              "      <td>0</td>\n",
              "      <td>470</td>\n",
              "      <td>17</td>\n",
              "      <td>9</td>\n",
              "    </tr>\n",
              "    <tr>\n",
              "      <th>WALKING_DOWNSTAIRS</th>\n",
              "      <td>0</td>\n",
              "      <td>2</td>\n",
              "      <td>1</td>\n",
              "      <td>6</td>\n",
              "      <td>411</td>\n",
              "      <td>0</td>\n",
              "    </tr>\n",
              "    <tr>\n",
              "      <th>WALKING_UPSTAIRS</th>\n",
              "      <td>0</td>\n",
              "      <td>0</td>\n",
              "      <td>0</td>\n",
              "      <td>24</td>\n",
              "      <td>4</td>\n",
              "      <td>443</td>\n",
              "    </tr>\n",
              "  </tbody>\n",
              "</table>\n",
              "</div>"
            ],
            "text/plain": [
              "Pred                LAYING  SITTING  ...  WALKING_DOWNSTAIRS  WALKING_UPSTAIRS\n",
              "True                                 ...                                      \n",
              "LAYING                 510        0  ...                   0                27\n",
              "SITTING                  0      374  ...                   1                 2\n",
              "STANDING                 0       58  ...                   0                 0\n",
              "WALKING                  0        0  ...                  17                 9\n",
              "WALKING_DOWNSTAIRS       0        2  ...                 411                 0\n",
              "WALKING_UPSTAIRS         0        0  ...                   4               443\n",
              "\n",
              "[6 rows x 6 columns]"
            ]
          },
          "metadata": {
            "tags": []
          },
          "execution_count": 35
        }
      ]
    },
    {
      "cell_type": "code",
      "metadata": {
        "colab": {
          "base_uri": "https://localhost:8080/"
        },
        "id": "j1fxJjdoTvdI",
        "outputId": "1012f0c2-75f4-4f3a-f389-5c160a1d1e83"
      },
      "source": [
        "score = model.evaluate(X_test, Y_test)"
      ],
      "execution_count": 36,
      "outputs": [
        {
          "output_type": "stream",
          "text": [
            "93/93 [==============================] - 1s 6ms/step - loss: 0.3888 - accuracy: 0.9101\n"
          ],
          "name": "stdout"
        }
      ]
    },
    {
      "cell_type": "code",
      "metadata": {
        "colab": {
          "base_uri": "https://localhost:8080/"
        },
        "id": "nNEWFL87TvdI",
        "outputId": "7e3ce7b7-373d-4b6a-9a82-23bb38c81ba4"
      },
      "source": [
        "score"
      ],
      "execution_count": 37,
      "outputs": [
        {
          "output_type": "execute_result",
          "data": {
            "text/plain": [
              "[0.38883304595947266, 0.9100780487060547]"
            ]
          },
          "metadata": {
            "tags": []
          },
          "execution_count": 37
        }
      ]
    },
    {
      "cell_type": "code",
      "metadata": {
        "colab": {
          "base_uri": "https://localhost:8080/"
        },
        "id": "fVFb1m3jpiys",
        "outputId": "8b0efa80-6713-44d6-a226-b36fa15d75f5"
      },
      "source": [
        "import tensorflow as tf\n",
        "tf.__version__\n",
        "from warnings import filterwarnings\n",
        "filterwarnings(\"ignore\")\n",
        "# Convert the model.\n",
        "converter = tf.lite.TFLiteConverter.from_keras_model(model)\n",
        "tflite_model = converter.convert()\n",
        "\n",
        "# Save the model.\n",
        "with open('model_final.tflite', 'wb') as f:\n",
        "  f.write(tflite_model)"
      ],
      "execution_count": 38,
      "outputs": [
        {
          "output_type": "stream",
          "text": [
            "WARNING:absl:Found untraced functions such as gru_cell_6_layer_call_and_return_conditional_losses, gru_cell_6_layer_call_fn, gru_cell_7_layer_call_and_return_conditional_losses, gru_cell_7_layer_call_fn, gru_cell_6_layer_call_fn while saving (showing 5 of 10). These functions will not be directly callable after loading.\n",
            "WARNING:absl:Found untraced functions such as gru_cell_6_layer_call_and_return_conditional_losses, gru_cell_6_layer_call_fn, gru_cell_7_layer_call_and_return_conditional_losses, gru_cell_7_layer_call_fn, gru_cell_6_layer_call_fn while saving (showing 5 of 10). These functions will not be directly callable after loading.\n"
          ],
          "name": "stderr"
        },
        {
          "output_type": "stream",
          "text": [
            "INFO:tensorflow:Assets written to: /tmp/tmp4j0spbom/assets\n"
          ],
          "name": "stdout"
        },
        {
          "output_type": "stream",
          "text": [
            "INFO:tensorflow:Assets written to: /tmp/tmp4j0spbom/assets\n"
          ],
          "name": "stderr"
        }
      ]
    },
    {
      "cell_type": "code",
      "metadata": {
        "id": "ZtVxu0OjprCK"
      },
      "source": [
        ""
      ],
      "execution_count": null,
      "outputs": []
    }
  ]
}